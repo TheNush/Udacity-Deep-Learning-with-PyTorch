{
 "cells": [
  {
   "cell_type": "markdown",
   "metadata": {},
   "source": [
    "# Character-Level LSTM in PyTorch\n",
    "\n",
    "In this notebook, I'll construct a character-level LSTM with PyTorch. The network will train character by character on some text, then generate new text character by character. As an example, I will train on Anna Karenina. **This model will be able to generate new text based on the text from the book!**\n",
    "\n",
    "This network is based off of Andrej Karpathy's [post on RNNs](http://karpathy.github.io/2015/05/21/rnn-effectiveness/) and [implementation in Torch](https://github.com/karpathy/char-rnn). Below is the general architecture of the character-wise RNN.\n",
    "\n",
    "<img src=\"assets/charseq.jpeg\" width=\"500\">"
   ]
  },
  {
   "cell_type": "markdown",
   "metadata": {},
   "source": [
    "First let's load in our required resources for data loading and model creation."
   ]
  },
  {
   "cell_type": "code",
   "execution_count": 1,
   "metadata": {},
   "outputs": [],
   "source": [
    "import numpy as np\n",
    "import torch\n",
    "from torch import nn\n",
    "import torch.nn.functional as F"
   ]
  },
  {
   "cell_type": "markdown",
   "metadata": {},
   "source": [
    "## Load in Data\n",
    "\n",
    "Then, we'll load the Anna Karenina text file and convert it into integers for our network to use. "
   ]
  },
  {
   "cell_type": "code",
   "execution_count": 2,
   "metadata": {},
   "outputs": [],
   "source": [
    "# open text file and read in data as `text`\n",
    "with open('data/anna.txt', 'r') as f:\n",
    "    text = f.read()"
   ]
  },
  {
   "cell_type": "markdown",
   "metadata": {},
   "source": [
    "Let's check out the first 100 characters, make sure everything is peachy. According to the [American Book Review](http://americanbookreview.org/100bestlines.asp), this is the 6th best first line of a book ever."
   ]
  },
  {
   "cell_type": "code",
   "execution_count": 3,
   "metadata": {},
   "outputs": [
    {
     "data": {
      "text/plain": [
       "'Chapter 1\\n\\n\\nHappy families are all alike; every unhappy family is unhappy in its own\\nway.\\n\\nEverythin'"
      ]
     },
     "execution_count": 3,
     "metadata": {},
     "output_type": "execute_result"
    }
   ],
   "source": [
    "text[:100]"
   ]
  },
  {
   "cell_type": "markdown",
   "metadata": {},
   "source": [
    "### Tokenization\n",
    "\n",
    "In the cells, below, I'm creating a couple **dictionaries** to convert the characters to and from integers. Encoding the characters as integers makes it easier to use as input in the network."
   ]
  },
  {
   "cell_type": "code",
   "execution_count": 6,
   "metadata": {},
   "outputs": [
    {
     "name": "stdout",
     "output_type": "stream",
     "text": [
      "('N', '2', 'n', 'P', 'r', 'H', '@', 'h', 'R', 'q', 'y', 'c', 'm', 'F', 'S', ',', 'o', 'X', 'K', 'j', ' ', '\"', '0', 'b', 'a', '8', 'V', '&', 'u', 'O', ';', '?', '/', '5', 'C', 'v', '!', 'd', 'w', '4', 'Y', '7', 'E', 'B', '-', 'x', 'Q', '%', 'z', '6', '*', 'Z', '.', 'T', 'J', 'p', '`', '1', 'I', 'k', 'f', 't', 'M', 'G', '$', 'L', ':', 'l', 's', \"'\", 'g', 'e', '3', 'D', '_', 'W', 'A', '(', 'i', ')', 'U', '\\n', '9')\n"
     ]
    }
   ],
   "source": [
    "# encode the text and map each character to an integer and vice versa\n",
    "\n",
    "# we create two dictionaries:\n",
    "# 1. int2char, which maps integers to characters\n",
    "# 2. char2int, which maps characters to unique integers\n",
    "chars = tuple(set(text))\n",
    "print(chars)\n",
    "int2char = dict(enumerate(chars))\n",
    "char2int = {ch: ii for ii, ch in int2char.items()}\n",
    "\n",
    "# encode the text\n",
    "encoded = np.array([char2int[ch] for ch in text])"
   ]
  },
  {
   "cell_type": "markdown",
   "metadata": {},
   "source": [
    "And we can see those same characters from above, encoded as integers."
   ]
  },
  {
   "cell_type": "code",
   "execution_count": 7,
   "metadata": {},
   "outputs": [
    {
     "data": {
      "text/plain": [
       "array([34,  7, 24, 55, 61, 71,  4, 20, 57, 81, 81, 81,  5, 24, 55, 55, 10,\n",
       "       20, 60, 24, 12, 78, 67, 78, 71, 68, 20, 24,  4, 71, 20, 24, 67, 67,\n",
       "       20, 24, 67, 78, 59, 71, 30, 20, 71, 35, 71,  4, 10, 20, 28,  2,  7,\n",
       "       24, 55, 55, 10, 20, 60, 24, 12, 78, 67, 10, 20, 78, 68, 20, 28,  2,\n",
       "        7, 24, 55, 55, 10, 20, 78,  2, 20, 78, 61, 68, 20, 16, 38,  2, 81,\n",
       "       38, 24, 10, 52, 81, 81, 42, 35, 71,  4, 10, 61,  7, 78,  2])"
      ]
     },
     "execution_count": 7,
     "metadata": {},
     "output_type": "execute_result"
    }
   ],
   "source": [
    "encoded[:100]"
   ]
  },
  {
   "cell_type": "markdown",
   "metadata": {},
   "source": [
    "## Pre-processing the data\n",
    "\n",
    "As you can see in our char-RNN image above, our LSTM expects an input that is **one-hot encoded** meaning that each character is converted into an integer (via our created dictionary) and *then* converted into a column vector where only it's corresponding integer index will have the value of 1 and the rest of the vector will be filled with 0's. Since we're one-hot encoding the data, let's make a function to do that!\n"
   ]
  },
  {
   "cell_type": "code",
   "execution_count": 8,
   "metadata": {},
   "outputs": [],
   "source": [
    "def one_hot_encode(arr, n_labels):\n",
    "    \n",
    "    # Initialize the the encoded array\n",
    "    one_hot = np.zeros((arr.size, n_labels), dtype=np.float32)\n",
    "    \n",
    "    # Fill the appropriate elements with ones\n",
    "    one_hot[np.arange(one_hot.shape[0]), arr.flatten()] = 1.\n",
    "    \n",
    "    # Finally reshape it to get back to the original array\n",
    "    one_hot = one_hot.reshape((*arr.shape, n_labels))\n",
    "    \n",
    "    return one_hot"
   ]
  },
  {
   "cell_type": "code",
   "execution_count": 9,
   "metadata": {},
   "outputs": [
    {
     "name": "stdout",
     "output_type": "stream",
     "text": [
      "[[[0. 0. 0. 1. 0. 0. 0. 0.]\n",
      "  [0. 0. 0. 0. 0. 1. 0. 0.]\n",
      "  [0. 1. 0. 0. 0. 0. 0. 0.]]]\n"
     ]
    }
   ],
   "source": [
    "# check that the function works as expected\n",
    "test_seq = np.array([[3, 5, 1]])\n",
    "one_hot = one_hot_encode(test_seq, 8)\n",
    "\n",
    "print(one_hot)"
   ]
  },
  {
   "cell_type": "markdown",
   "metadata": {},
   "source": [
    "## Making training mini-batches\n",
    "\n",
    "\n",
    "To train on this data, we also want to create mini-batches for training. Remember that we want our batches to be multiple sequences of some desired number of sequence steps. Considering a simple example, our batches would look like this:\n",
    "\n",
    "<img src=\"assets/sequence_batching@1x.png\" width=500px>\n",
    "\n",
    "\n",
    "<br>\n",
    "\n",
    "In this example, we'll take the encoded characters (passed in as the `arr` parameter) and split them into multiple sequences, given by `batch_size`. Each of our sequences will be `seq_length` long.\n",
    "\n",
    "### Creating Batches\n",
    "\n",
    "**1. The first thing we need to do is discard some of the text so we only have completely full mini-batches. **\n",
    "\n",
    "Each batch contains $N \\times M$ characters, where $N$ is the batch size (the number of sequences in a batch) and $M$ is the seq_length or number of time steps in a sequence. Then, to get the total number of batches, $K$, that we can make from the array `arr`, you divide the length of `arr` by the number of characters per batch. Once you know the number of batches, you can get the total number of characters to keep from `arr`, $N * M * K$.\n",
    "\n",
    "**2. After that, we need to split `arr` into $N$ batches. ** \n",
    "\n",
    "You can do this using `arr.reshape(size)` where `size` is a tuple containing the dimensions sizes of the reshaped array. We know we want $N$ sequences in a batch, so let's make that the size of the first dimension. For the second dimension, you can use `-1` as a placeholder in the size, it'll fill up the array with the appropriate data for you. After this, you should have an array that is $N \\times (M * K)$.\n",
    "\n",
    "**3. Now that we have this array, we can iterate through it to get our mini-batches. **\n",
    "\n",
    "The idea is each batch is a $N \\times M$ window on the $N \\times (M * K)$ array. For each subsequent batch, the window moves over by `seq_length`. We also want to create both the input and target arrays. Remember that the targets are just the inputs shifted over by one character. The way I like to do this window is use `range` to take steps of size `n_steps` from $0$ to `arr.shape[1]`, the total number of tokens in each sequence. That way, the integers you get from `range` always point to the start of a batch, and each window is `seq_length` wide.\n",
    "\n",
    "> **TODO:** Write the code for creating batches in the function below. The exercises in this notebook _will not be easy_. I've provided a notebook with solutions alongside this notebook. If you get stuck, checkout the solutions. The most important thing is that you don't copy and paste the code into here, **type out the solution code yourself.**"
   ]
  },
  {
   "cell_type": "code",
   "execution_count": 13,
   "metadata": {},
   "outputs": [],
   "source": [
    "def get_batches(arr, batch_size, seq_length):\n",
    "    '''Create a generator that returns batches of size\n",
    "       batch_size x seq_length from arr.\n",
    "       \n",
    "       Arguments\n",
    "       ---------\n",
    "       arr: Array you want to make batches from\n",
    "       batch_size: Batch size, the number of sequences per batch\n",
    "       seq_length: Number of encoded chars in a sequence\n",
    "    '''\n",
    "    \n",
    "    ## TODO: Get the number of batches we can make\n",
    "    n_batches = len(arr) // (batch_size * seq_length)\n",
    "    \n",
    "    ## TODO: Keep only enough characters to make full batches\n",
    "    arr = arr[:n_batches * seq_length * batch_size]\n",
    "    \n",
    "    ## TODO: Reshape into batch_size rows\n",
    "    arr = arr.reshape((batch_size, -1))\n",
    "    \n",
    "    ## TODO: Iterate over the batches using a window of size seq_length\n",
    "    for n in range(0, arr.shape[1], seq_length):\n",
    "        # The features\n",
    "        x = arr[:, n:n+seq_length]\n",
    "        # The targets, shifted by one\n",
    "        y = np.zeros_like(x)\n",
    "        try:\n",
    "            y[:, :-1], y[:, -1] = x[:, 1:], arr[:, n+seq_length]\n",
    "        except IndexError:\n",
    "            y[:, :-1], y[:, -1] = x[:, 1:], arr[:, 0]\n",
    "        yield x, y"
   ]
  },
  {
   "cell_type": "markdown",
   "metadata": {},
   "source": [
    "### Test Your Implementation\n",
    "\n",
    "Now I'll make some data sets and we can check out what's going on as we batch data. Here, as an example, I'm going to use a batch size of 8 and 50 sequence steps."
   ]
  },
  {
   "cell_type": "code",
   "execution_count": 14,
   "metadata": {},
   "outputs": [],
   "source": [
    "batches = get_batches(encoded, 8, 50)\n",
    "x, y = next(batches)"
   ]
  },
  {
   "cell_type": "code",
   "execution_count": 15,
   "metadata": {},
   "outputs": [
    {
     "name": "stdout",
     "output_type": "stream",
     "text": [
      "x\n",
      " [[34  7 24 55 61 71  4 20 57 81]\n",
      " [68 16  2 20 61  7 24 61 20 24]\n",
      " [71  2 37 20 16  4 20 24 20 60]\n",
      " [68 20 61  7 71 20 11  7 78 71]\n",
      " [20 68 24 38 20  7 71  4 20 61]\n",
      " [11 28 68 68 78 16  2 20 24  2]\n",
      " [20 76  2  2 24 20  7 24 37 20]\n",
      " [29 23 67 16  2 68 59 10 52 20]]\n",
      "\n",
      "y\n",
      " [[ 7 24 55 61 71  4 20 57 81 81]\n",
      " [16  2 20 61  7 24 61 20 24 61]\n",
      " [ 2 37 20 16  4 20 24 20 60 16]\n",
      " [20 61  7 71 20 11  7 78 71 60]\n",
      " [68 24 38 20  7 71  4 20 61 71]\n",
      " [28 68 68 78 16  2 20 24  2 37]\n",
      " [76  2  2 24 20  7 24 37 20 68]\n",
      " [23 67 16  2 68 59 10 52 20 21]]\n"
     ]
    }
   ],
   "source": [
    "# printing out the first 10 items in a sequence\n",
    "print('x\\n', x[:10, :10])\n",
    "print('\\ny\\n', y[:10, :10])"
   ]
  },
  {
   "cell_type": "markdown",
   "metadata": {},
   "source": [
    "If you implemented `get_batches` correctly, the above output should look something like \n",
    "```\n",
    "x\n",
    " [[25  8 60 11 45 27 28 73  1  2]\n",
    " [17  7 20 73 45  8 60 45 73 60]\n",
    " [27 20 80 73  7 28 73 60 73 65]\n",
    " [17 73 45  8 27 73 66  8 46 27]\n",
    " [73 17 60 12 73  8 27 28 73 45]\n",
    " [66 64 17 17 46  7 20 73 60 20]\n",
    " [73 76 20 20 60 73  8 60 80 73]\n",
    " [47 35 43  7 20 17 24 50 37 73]]\n",
    "\n",
    "y\n",
    " [[ 8 60 11 45 27 28 73  1  2  2]\n",
    " [ 7 20 73 45  8 60 45 73 60 45]\n",
    " [20 80 73  7 28 73 60 73 65  7]\n",
    " [73 45  8 27 73 66  8 46 27 65]\n",
    " [17 60 12 73  8 27 28 73 45 27]\n",
    " [64 17 17 46  7 20 73 60 20 80]\n",
    " [76 20 20 60 73  8 60 80 73 17]\n",
    " [35 43  7 20 17 24 50 37 73 36]]\n",
    " ```\n",
    " although the exact numbers may be different. Check to make sure the data is shifted over one step for `y`."
   ]
  },
  {
   "cell_type": "markdown",
   "metadata": {},
   "source": [
    "---\n",
    "## Defining the network with PyTorch\n",
    "\n",
    "Below is where you'll define the network.\n",
    "\n",
    "<img src=\"assets/charRNN.png\" width=500px>\n",
    "\n",
    "Next, you'll use PyTorch to define the architecture of the network. We start by defining the layers and operations we want. Then, define a method for the forward pass. You've also been given a method for predicting characters."
   ]
  },
  {
   "cell_type": "markdown",
   "metadata": {},
   "source": [
    "### Model Structure\n",
    "\n",
    "In `__init__` the suggested structure is as follows:\n",
    "* Create and store the necessary dictionaries (this has been done for you)\n",
    "* Define an LSTM layer that takes as params: an input size (the number of characters), a hidden layer size `n_hidden`, a number of layers `n_layers`, a dropout probability `drop_prob`, and a batch_first boolean (True, since we are batching)\n",
    "* Define a dropout layer with `drop_prob`\n",
    "* Define a fully-connected layer with params: input size `n_hidden` and output size (the number of characters)\n",
    "* Finally, initialize the weights (again, this has been given)\n",
    "\n",
    "Note that some parameters have been named and given in the `__init__` function, and we use them and store them by doing something like `self.drop_prob = drop_prob`."
   ]
  },
  {
   "cell_type": "markdown",
   "metadata": {},
   "source": [
    "---\n",
    "### LSTM Inputs/Outputs\n",
    "\n",
    "You can create a basic [LSTM layer](https://pytorch.org/docs/stable/nn.html#lstm) as follows\n",
    "\n",
    "```python\n",
    "self.lstm = nn.LSTM(input_size, n_hidden, n_layers, \n",
    "                            dropout=drop_prob, batch_first=True)\n",
    "```\n",
    "\n",
    "where `input_size` is the number of characters this cell expects to see as sequential input, and `n_hidden` is the number of units in the hidden layers in the cell. And we can add dropout by adding a dropout parameter with a specified probability; this will automatically add dropout to the inputs or outputs. Finally, in the `forward` function, we can stack up the LSTM cells into layers using `.view`. With this, you pass in a list of cells and it will send the output of one cell into the next cell.\n",
    "\n",
    "We also need to create an initial hidden state of all zeros. This is done like so\n",
    "\n",
    "```python\n",
    "self.init_hidden()\n",
    "```"
   ]
  },
  {
   "cell_type": "code",
   "execution_count": 16,
   "metadata": {},
   "outputs": [
    {
     "name": "stdout",
     "output_type": "stream",
     "text": [
      "Training on GPU!\n"
     ]
    }
   ],
   "source": [
    "# check if GPU is available\n",
    "train_on_gpu = torch.cuda.is_available()\n",
    "if(train_on_gpu):\n",
    "    print('Training on GPU!')\n",
    "else: \n",
    "    print('No GPU available, training on CPU; consider making n_epochs very small.')"
   ]
  },
  {
   "cell_type": "code",
   "execution_count": 17,
   "metadata": {},
   "outputs": [],
   "source": [
    "class CharRNN(nn.Module):\n",
    "    \n",
    "    def __init__(self, tokens, n_hidden=256, n_layers=2,\n",
    "                               drop_prob=0.5, lr=0.001):\n",
    "        super().__init__()\n",
    "        self.drop_prob = drop_prob\n",
    "        self.n_layers = n_layers\n",
    "        self.n_hidden = n_hidden\n",
    "        self.lr = lr\n",
    "        \n",
    "        # creating character dictionaries\n",
    "        self.chars = tokens\n",
    "        self.int2char = dict(enumerate(self.chars))\n",
    "        self.char2int = {ch: ii for ii, ch in self.int2char.items()}\n",
    "        \n",
    "        ## TODO: define the layers of the model\n",
    "        self.lstm = nn.LSTM(len(self.chars), self.n_hidden, self.n_layers, dropout=drop_prob, batch_first=True)\n",
    "        self.dropout = nn.Dropout(drop_prob)\n",
    "        self.fc = nn.Linear(n_hidden, len(self.chars))\n",
    "    \n",
    "    def forward(self, x, hidden):\n",
    "        ''' Forward pass through the network. \n",
    "            These inputs are x, and the hidden/cell state `hidden`. '''\n",
    "                \n",
    "        ## TODO: Get the outputs and the new hidden state from the lstm\n",
    "        r_output, hidden = self.lstm(x, hidden)\n",
    "        \n",
    "        output = self.dropout(r_output)\n",
    "        output = output.contiguous().view(-1, self.n_hidden)\n",
    "        \n",
    "        output = self.fc(output)\n",
    "        # return the final output and the hidden state\n",
    "        return output, hidden\n",
    "    \n",
    "    \n",
    "    def init_hidden(self, batch_size):\n",
    "        ''' Initializes hidden state '''\n",
    "        # Create two new tensors with sizes n_layers x batch_size x n_hidden,\n",
    "        # initialized to zero, for hidden state and cell state of LSTM\n",
    "        weight = next(self.parameters()).data\n",
    "        \n",
    "        if (train_on_gpu):\n",
    "            hidden = (weight.new(self.n_layers, batch_size, self.n_hidden).zero_().cuda(),\n",
    "                  weight.new(self.n_layers, batch_size, self.n_hidden).zero_().cuda())\n",
    "        else:\n",
    "            hidden = (weight.new(self.n_layers, batch_size, self.n_hidden).zero_(),\n",
    "                      weight.new(self.n_layers, batch_size, self.n_hidden).zero_())\n",
    "        \n",
    "        return hidden\n",
    "        "
   ]
  },
  {
   "cell_type": "markdown",
   "metadata": {},
   "source": [
    "## Time to train\n",
    "\n",
    "The train function gives us the ability to set the number of epochs, the learning rate, and other parameters.\n",
    "\n",
    "Below we're using an Adam optimizer and cross entropy loss since we are looking at character class scores as output. We calculate the loss and perform backpropagation, as usual!\n",
    "\n",
    "A couple of details about training: \n",
    ">* Within the batch loop, we detach the hidden state from its history; this time setting it equal to a new *tuple* variable because an LSTM has a hidden state that is a tuple of the hidden and cell states.\n",
    "* We use [`clip_grad_norm_`](https://pytorch.org/docs/stable/_modules/torch/nn/utils/clip_grad.html) to help prevent exploding gradients."
   ]
  },
  {
   "cell_type": "code",
   "execution_count": 18,
   "metadata": {},
   "outputs": [],
   "source": [
    "def train(net, data, epochs=10, batch_size=10, seq_length=50, lr=0.001, clip=5, val_frac=0.1, print_every=10):\n",
    "    ''' Training a network \n",
    "    \n",
    "        Arguments\n",
    "        ---------\n",
    "        \n",
    "        net: CharRNN network\n",
    "        data: text data to train the network\n",
    "        epochs: Number of epochs to train\n",
    "        batch_size: Number of mini-sequences per mini-batch, aka batch size\n",
    "        seq_length: Number of character steps per mini-batch\n",
    "        lr: learning rate\n",
    "        clip: gradient clipping\n",
    "        val_frac: Fraction of data to hold out for validation\n",
    "        print_every: Number of steps for printing training and validation loss\n",
    "    \n",
    "    '''\n",
    "    net.train()\n",
    "    \n",
    "    opt = torch.optim.Adam(net.parameters(), lr=lr)\n",
    "    criterion = nn.CrossEntropyLoss()\n",
    "    \n",
    "    # create training and validation data\n",
    "    val_idx = int(len(data)*(1-val_frac))\n",
    "    data, val_data = data[:val_idx], data[val_idx:]\n",
    "    \n",
    "    if(train_on_gpu):\n",
    "        net.cuda()\n",
    "    \n",
    "    counter = 0\n",
    "    n_chars = len(net.chars)\n",
    "    for e in range(epochs):\n",
    "        # initialize hidden state\n",
    "        h = net.init_hidden(batch_size)\n",
    "        \n",
    "        for x, y in get_batches(data, batch_size, seq_length):\n",
    "            counter += 1\n",
    "            \n",
    "            # One-hot encode our data and make them Torch tensors\n",
    "            x = one_hot_encode(x, n_chars)\n",
    "            inputs, targets = torch.from_numpy(x), torch.from_numpy(y)\n",
    "            \n",
    "            if(train_on_gpu):\n",
    "                inputs, targets = inputs.cuda(), targets.cuda()\n",
    "\n",
    "            # Creating new variables for the hidden state, otherwise\n",
    "            # we'd backprop through the entire training history\n",
    "            h = tuple([each.data for each in h])\n",
    "\n",
    "            # zero accumulated gradients\n",
    "            net.zero_grad()\n",
    "            \n",
    "            # get the output from the model\n",
    "            output, h = net(inputs, h)\n",
    "            \n",
    "            # calculate the loss and perform backprop\n",
    "            loss = criterion(output, targets.view(batch_size*seq_length).long())\n",
    "            loss.backward()\n",
    "            # `clip_grad_norm` helps prevent the exploding gradient problem in RNNs / LSTMs.\n",
    "            nn.utils.clip_grad_norm_(net.parameters(), clip)\n",
    "            opt.step()\n",
    "            \n",
    "            # loss stats\n",
    "            if counter % print_every == 0:\n",
    "                # Get validation loss\n",
    "                val_h = net.init_hidden(batch_size)\n",
    "                val_losses = []\n",
    "                net.eval()\n",
    "                for x, y in get_batches(val_data, batch_size, seq_length):\n",
    "                    # One-hot encode our data and make them Torch tensors\n",
    "                    x = one_hot_encode(x, n_chars)\n",
    "                    x, y = torch.from_numpy(x), torch.from_numpy(y)\n",
    "                    \n",
    "                    # Creating new variables for the hidden state, otherwise\n",
    "                    # we'd backprop through the entire training history\n",
    "                    val_h = tuple([each.data for each in val_h])\n",
    "                    \n",
    "                    inputs, targets = x, y\n",
    "                    if(train_on_gpu):\n",
    "                        inputs, targets = inputs.cuda(), targets.cuda()\n",
    "\n",
    "                    output, val_h = net(inputs, val_h)\n",
    "                    val_loss = criterion(output, targets.view(batch_size*seq_length).long())\n",
    "                \n",
    "                    val_losses.append(val_loss.item())\n",
    "                \n",
    "                net.train() # reset to train mode after iterationg through validation data\n",
    "                \n",
    "                print(\"Epoch: {}/{}...\".format(e+1, epochs),\n",
    "                      \"Step: {}...\".format(counter),\n",
    "                      \"Loss: {:.4f}...\".format(loss.item()),\n",
    "                      \"Val Loss: {:.4f}\".format(np.mean(val_losses)))"
   ]
  },
  {
   "cell_type": "markdown",
   "metadata": {},
   "source": [
    "## Instantiating the model\n",
    "\n",
    "Now we can actually train the network. First we'll create the network itself, with some given hyperparameters. Then, define the mini-batches sizes, and start training!"
   ]
  },
  {
   "cell_type": "code",
   "execution_count": 22,
   "metadata": {},
   "outputs": [
    {
     "name": "stdout",
     "output_type": "stream",
     "text": [
      "CharRNN(\n",
      "  (lstm): LSTM(83, 256, num_layers=2, batch_first=True, dropout=0.5)\n",
      "  (dropout): Dropout(p=0.5, inplace=False)\n",
      "  (fc): Linear(in_features=256, out_features=83, bias=True)\n",
      ")\n"
     ]
    }
   ],
   "source": [
    "## TODO: set your model hyperparameters\n",
    "# define and print the net\n",
    "n_hidden=256\n",
    "n_layers=2\n",
    "\n",
    "net = CharRNN(chars, n_hidden, n_layers)\n",
    "print(net)"
   ]
  },
  {
   "cell_type": "markdown",
   "metadata": {},
   "source": [
    "### Set your training hyperparameters!"
   ]
  },
  {
   "cell_type": "code",
   "execution_count": 24,
   "metadata": {
    "scrolled": true
   },
   "outputs": [
    {
     "name": "stdout",
     "output_type": "stream",
     "text": [
      "Epoch: 1/20... Step: 10... Loss: 2.0587... Val Loss: 2.0581\n",
      "Epoch: 1/20... Step: 20... Loss: 2.0765... Val Loss: 2.0441\n",
      "Epoch: 1/20... Step: 30... Loss: 2.0546... Val Loss: 2.0321\n",
      "Epoch: 1/20... Step: 40... Loss: 2.0529... Val Loss: 2.0257\n",
      "Epoch: 1/20... Step: 50... Loss: 2.0429... Val Loss: 2.0196\n",
      "Epoch: 1/20... Step: 60... Loss: 2.0249... Val Loss: 2.0140\n",
      "Epoch: 1/20... Step: 70... Loss: 2.0205... Val Loss: 2.0091\n",
      "Epoch: 1/20... Step: 80... Loss: 2.0266... Val Loss: 2.0041\n",
      "Epoch: 1/20... Step: 90... Loss: 2.0277... Val Loss: 1.9995\n",
      "Epoch: 1/20... Step: 100... Loss: 2.0367... Val Loss: 1.9947\n",
      "Epoch: 2/20... Step: 110... Loss: 2.0976... Val Loss: 1.9892\n",
      "Epoch: 2/20... Step: 120... Loss: 2.0071... Val Loss: 1.9829\n",
      "Epoch: 2/20... Step: 130... Loss: 1.9903... Val Loss: 1.9790\n",
      "Epoch: 2/20... Step: 140... Loss: 2.0003... Val Loss: 1.9734\n",
      "Epoch: 2/20... Step: 150... Loss: 1.9820... Val Loss: 1.9682\n",
      "Epoch: 2/20... Step: 160... Loss: 1.9708... Val Loss: 1.9644\n",
      "Epoch: 2/20... Step: 170... Loss: 1.9807... Val Loss: 1.9575\n",
      "Epoch: 2/20... Step: 180... Loss: 1.9688... Val Loss: 1.9548\n",
      "Epoch: 2/20... Step: 190... Loss: 1.9597... Val Loss: 1.9549\n",
      "Epoch: 2/20... Step: 200... Loss: 1.9557... Val Loss: 1.9453\n",
      "Epoch: 2/20... Step: 210... Loss: 1.9538... Val Loss: 1.9408\n",
      "Epoch: 3/20... Step: 220... Loss: 1.9811... Val Loss: 1.9363\n",
      "Epoch: 3/20... Step: 230... Loss: 1.9493... Val Loss: 1.9290\n",
      "Epoch: 3/20... Step: 240... Loss: 1.9535... Val Loss: 1.9208\n",
      "Epoch: 3/20... Step: 250... Loss: 1.9174... Val Loss: 1.9170\n",
      "Epoch: 3/20... Step: 260... Loss: 1.9258... Val Loss: 1.9128\n",
      "Epoch: 3/20... Step: 270... Loss: 1.9427... Val Loss: 1.9096\n",
      "Epoch: 3/20... Step: 280... Loss: 1.8914... Val Loss: 1.9050\n",
      "Epoch: 3/20... Step: 290... Loss: 1.9308... Val Loss: 1.8977\n",
      "Epoch: 3/20... Step: 300... Loss: 1.9021... Val Loss: 1.8950\n",
      "Epoch: 3/20... Step: 310... Loss: 1.9077... Val Loss: 1.8909\n",
      "Epoch: 3/20... Step: 320... Loss: 1.8886... Val Loss: 1.8859\n",
      "Epoch: 4/20... Step: 330... Loss: 1.9107... Val Loss: 1.8778\n",
      "Epoch: 4/20... Step: 340... Loss: 1.8835... Val Loss: 1.8772\n",
      "Epoch: 4/20... Step: 350... Loss: 1.8854... Val Loss: 1.8652\n",
      "Epoch: 4/20... Step: 360... Loss: 1.8772... Val Loss: 1.8631\n",
      "Epoch: 4/20... Step: 370... Loss: 1.8761... Val Loss: 1.8583\n",
      "Epoch: 4/20... Step: 380... Loss: 1.8604... Val Loss: 1.8514\n",
      "Epoch: 4/20... Step: 390... Loss: 1.8700... Val Loss: 1.8493\n",
      "Epoch: 4/20... Step: 400... Loss: 1.8835... Val Loss: 1.8436\n",
      "Epoch: 4/20... Step: 410... Loss: 1.8431... Val Loss: 1.8394\n",
      "Epoch: 4/20... Step: 420... Loss: 1.8584... Val Loss: 1.8414\n",
      "Epoch: 4/20... Step: 430... Loss: 1.8494... Val Loss: 1.8313\n",
      "Epoch: 5/20... Step: 440... Loss: 1.8543... Val Loss: 1.8236\n",
      "Epoch: 5/20... Step: 450... Loss: 1.8374... Val Loss: 1.8251\n",
      "Epoch: 5/20... Step: 460... Loss: 1.8227... Val Loss: 1.8168\n",
      "Epoch: 5/20... Step: 470... Loss: 1.8282... Val Loss: 1.8111\n",
      "Epoch: 5/20... Step: 480... Loss: 1.8212... Val Loss: 1.8070\n",
      "Epoch: 5/20... Step: 490... Loss: 1.8357... Val Loss: 1.8018\n",
      "Epoch: 5/20... Step: 500... Loss: 1.8195... Val Loss: 1.7994\n",
      "Epoch: 5/20... Step: 510... Loss: 1.8120... Val Loss: 1.7964\n",
      "Epoch: 5/20... Step: 520... Loss: 1.8127... Val Loss: 1.7947\n",
      "Epoch: 5/20... Step: 530... Loss: 1.7947... Val Loss: 1.7887\n",
      "Epoch: 5/20... Step: 540... Loss: 1.7785... Val Loss: 1.7852\n",
      "Epoch: 6/20... Step: 550... Loss: 1.7969... Val Loss: 1.7823\n",
      "Epoch: 6/20... Step: 560... Loss: 1.7806... Val Loss: 1.7783\n",
      "Epoch: 6/20... Step: 570... Loss: 1.7899... Val Loss: 1.7729\n",
      "Epoch: 6/20... Step: 580... Loss: 1.7833... Val Loss: 1.7667\n",
      "Epoch: 6/20... Step: 590... Loss: 1.7800... Val Loss: 1.7641\n",
      "Epoch: 6/20... Step: 600... Loss: 1.7532... Val Loss: 1.7598\n",
      "Epoch: 6/20... Step: 610... Loss: 1.7839... Val Loss: 1.7641\n",
      "Epoch: 6/20... Step: 620... Loss: 1.7860... Val Loss: 1.7541\n",
      "Epoch: 6/20... Step: 630... Loss: 1.7613... Val Loss: 1.7524\n",
      "Epoch: 6/20... Step: 640... Loss: 1.7496... Val Loss: 1.7470\n",
      "Epoch: 6/20... Step: 650... Loss: 1.7576... Val Loss: 1.7427\n",
      "Epoch: 7/20... Step: 660... Loss: 1.7730... Val Loss: 1.7409\n",
      "Epoch: 7/20... Step: 670... Loss: 1.7369... Val Loss: 1.7390\n",
      "Epoch: 7/20... Step: 680... Loss: 1.7575... Val Loss: 1.7355\n",
      "Epoch: 7/20... Step: 690... Loss: 1.7617... Val Loss: 1.7295\n",
      "Epoch: 7/20... Step: 700... Loss: 1.7484... Val Loss: 1.7280\n",
      "Epoch: 7/20... Step: 710... Loss: 1.7492... Val Loss: 1.7233\n",
      "Epoch: 7/20... Step: 720... Loss: 1.7170... Val Loss: 1.7261\n",
      "Epoch: 7/20... Step: 730... Loss: 1.7402... Val Loss: 1.7189\n",
      "Epoch: 7/20... Step: 740... Loss: 1.7398... Val Loss: 1.7171\n",
      "Epoch: 7/20... Step: 750... Loss: 1.7350... Val Loss: 1.7111\n",
      "Epoch: 7/20... Step: 760... Loss: 1.6967... Val Loss: 1.7089\n",
      "Epoch: 8/20... Step: 770... Loss: 1.6919... Val Loss: 1.7064\n",
      "Epoch: 8/20... Step: 780... Loss: 1.7116... Val Loss: 1.7058\n",
      "Epoch: 8/20... Step: 790... Loss: 1.6997... Val Loss: 1.7003\n",
      "Epoch: 8/20... Step: 800... Loss: 1.7056... Val Loss: 1.6981\n",
      "Epoch: 8/20... Step: 810... Loss: 1.7029... Val Loss: 1.6965\n",
      "Epoch: 8/20... Step: 820... Loss: 1.6950... Val Loss: 1.6932\n",
      "Epoch: 8/20... Step: 830... Loss: 1.6955... Val Loss: 1.6886\n",
      "Epoch: 8/20... Step: 840... Loss: 1.7228... Val Loss: 1.6848\n",
      "Epoch: 8/20... Step: 850... Loss: 1.6737... Val Loss: 1.6841\n",
      "Epoch: 8/20... Step: 860... Loss: 1.6828... Val Loss: 1.6826\n",
      "Epoch: 8/20... Step: 870... Loss: 1.6913... Val Loss: 1.6804\n",
      "Epoch: 9/20... Step: 880... Loss: 1.6806... Val Loss: 1.6833\n",
      "Epoch: 9/20... Step: 890... Loss: 1.6568... Val Loss: 1.6765\n",
      "Epoch: 9/20... Step: 900... Loss: 1.6881... Val Loss: 1.6683\n",
      "Epoch: 9/20... Step: 910... Loss: 1.6687... Val Loss: 1.6687\n",
      "Epoch: 9/20... Step: 920... Loss: 1.6680... Val Loss: 1.6682\n",
      "Epoch: 9/20... Step: 930... Loss: 1.6714... Val Loss: 1.6637\n",
      "Epoch: 9/20... Step: 940... Loss: 1.6918... Val Loss: 1.6611\n",
      "Epoch: 9/20... Step: 950... Loss: 1.6642... Val Loss: 1.6593\n",
      "Epoch: 9/20... Step: 960... Loss: 1.6653... Val Loss: 1.6553\n",
      "Epoch: 9/20... Step: 970... Loss: 1.6517... Val Loss: 1.6566\n",
      "Epoch: 9/20... Step: 980... Loss: 1.6531... Val Loss: 1.6604\n",
      "Epoch: 10/20... Step: 990... Loss: 1.6446... Val Loss: 1.6501\n",
      "Epoch: 10/20... Step: 1000... Loss: 1.6478... Val Loss: 1.6481\n",
      "Epoch: 10/20... Step: 1010... Loss: 1.6453... Val Loss: 1.6435\n",
      "Epoch: 10/20... Step: 1020... Loss: 1.6515... Val Loss: 1.6429\n",
      "Epoch: 10/20... Step: 1030... Loss: 1.6517... Val Loss: 1.6402\n",
      "Epoch: 10/20... Step: 1040... Loss: 1.6142... Val Loss: 1.6389\n",
      "Epoch: 10/20... Step: 1050... Loss: 1.6416... Val Loss: 1.6355\n",
      "Epoch: 10/20... Step: 1060... Loss: 1.6524... Val Loss: 1.6357\n",
      "Epoch: 10/20... Step: 1070... Loss: 1.6043... Val Loss: 1.6314\n",
      "Epoch: 10/20... Step: 1080... Loss: 1.6583... Val Loss: 1.6307\n",
      "Epoch: 10/20... Step: 1090... Loss: 1.7958... Val Loss: 1.6296\n",
      "Epoch: 11/20... Step: 1100... Loss: 1.6208... Val Loss: 1.6277\n",
      "Epoch: 11/20... Step: 1110... Loss: 1.6313... Val Loss: 1.6270\n",
      "Epoch: 11/20... Step: 1120... Loss: 1.6310... Val Loss: 1.6215\n",
      "Epoch: 11/20... Step: 1130... Loss: 1.6126... Val Loss: 1.6192\n",
      "Epoch: 11/20... Step: 1140... Loss: 1.6206... Val Loss: 1.6166\n",
      "Epoch: 11/20... Step: 1150... Loss: 1.6274... Val Loss: 1.6158\n",
      "Epoch: 11/20... Step: 1160... Loss: 1.6069... Val Loss: 1.6137\n",
      "Epoch: 11/20... Step: 1170... Loss: 1.6260... Val Loss: 1.6119\n",
      "Epoch: 11/20... Step: 1180... Loss: 1.6127... Val Loss: 1.6092\n",
      "Epoch: 11/20... Step: 1190... Loss: 1.6263... Val Loss: 1.6095\n",
      "Epoch: 12/20... Step: 1200... Loss: 1.7363... Val Loss: 1.6089\n",
      "Epoch: 12/20... Step: 1210... Loss: 1.5999... Val Loss: 1.6058\n",
      "Epoch: 12/20... Step: 1220... Loss: 1.5866... Val Loss: 1.6040\n",
      "Epoch: 12/20... Step: 1230... Loss: 1.5909... Val Loss: 1.6006\n",
      "Epoch: 12/20... Step: 1240... Loss: 1.5914... Val Loss: 1.6003\n",
      "Epoch: 12/20... Step: 1250... Loss: 1.5863... Val Loss: 1.5971\n",
      "Epoch: 12/20... Step: 1260... Loss: 1.5880... Val Loss: 1.5986\n",
      "Epoch: 12/20... Step: 1270... Loss: 1.5874... Val Loss: 1.5938\n",
      "Epoch: 12/20... Step: 1280... Loss: 1.5960... Val Loss: 1.5942\n",
      "Epoch: 12/20... Step: 1290... Loss: 1.5773... Val Loss: 1.5927\n",
      "Epoch: 12/20... Step: 1300... Loss: 1.5706... Val Loss: 1.5914\n",
      "Epoch: 13/20... Step: 1310... Loss: 1.6074... Val Loss: 1.5900\n",
      "Epoch: 13/20... Step: 1320... Loss: 1.5653... Val Loss: 1.5877\n",
      "Epoch: 13/20... Step: 1330... Loss: 1.6005... Val Loss: 1.5859\n",
      "Epoch: 13/20... Step: 1340... Loss: 1.5648... Val Loss: 1.5850\n"
     ]
    },
    {
     "name": "stdout",
     "output_type": "stream",
     "text": [
      "Epoch: 13/20... Step: 1350... Loss: 1.5616... Val Loss: 1.5812\n",
      "Epoch: 13/20... Step: 1360... Loss: 1.5881... Val Loss: 1.5794\n",
      "Epoch: 13/20... Step: 1370... Loss: 1.5463... Val Loss: 1.5819\n",
      "Epoch: 13/20... Step: 1380... Loss: 1.5925... Val Loss: 1.5770\n",
      "Epoch: 13/20... Step: 1390... Loss: 1.5704... Val Loss: 1.5791\n",
      "Epoch: 13/20... Step: 1400... Loss: 1.5836... Val Loss: 1.5757\n",
      "Epoch: 13/20... Step: 1410... Loss: 1.5626... Val Loss: 1.5733\n",
      "Epoch: 14/20... Step: 1420... Loss: 1.5881... Val Loss: 1.5749\n",
      "Epoch: 14/20... Step: 1430... Loss: 1.5469... Val Loss: 1.5718\n",
      "Epoch: 14/20... Step: 1440... Loss: 1.5553... Val Loss: 1.5705\n",
      "Epoch: 14/20... Step: 1450... Loss: 1.5549... Val Loss: 1.5662\n",
      "Epoch: 14/20... Step: 1460... Loss: 1.5569... Val Loss: 1.5657\n",
      "Epoch: 14/20... Step: 1470... Loss: 1.5453... Val Loss: 1.5693\n",
      "Epoch: 14/20... Step: 1480... Loss: 1.5680... Val Loss: 1.5666\n",
      "Epoch: 14/20... Step: 1490... Loss: 1.5813... Val Loss: 1.5644\n",
      "Epoch: 14/20... Step: 1500... Loss: 1.5406... Val Loss: 1.5638\n",
      "Epoch: 14/20... Step: 1510... Loss: 1.5735... Val Loss: 1.5613\n",
      "Epoch: 14/20... Step: 1520... Loss: 1.5638... Val Loss: 1.5603\n",
      "Epoch: 15/20... Step: 1530... Loss: 1.5500... Val Loss: 1.5622\n",
      "Epoch: 15/20... Step: 1540... Loss: 1.5448... Val Loss: 1.5563\n",
      "Epoch: 15/20... Step: 1550... Loss: 1.5437... Val Loss: 1.5539\n",
      "Epoch: 15/20... Step: 1560... Loss: 1.5466... Val Loss: 1.5520\n",
      "Epoch: 15/20... Step: 1570... Loss: 1.5499... Val Loss: 1.5561\n",
      "Epoch: 15/20... Step: 1580... Loss: 1.5456... Val Loss: 1.5540\n",
      "Epoch: 15/20... Step: 1590... Loss: 1.5422... Val Loss: 1.5502\n",
      "Epoch: 15/20... Step: 1600... Loss: 1.5399... Val Loss: 1.5499\n",
      "Epoch: 15/20... Step: 1610... Loss: 1.5435... Val Loss: 1.5519\n",
      "Epoch: 15/20... Step: 1620... Loss: 1.5383... Val Loss: 1.5460\n",
      "Epoch: 15/20... Step: 1630... Loss: 1.5167... Val Loss: 1.5468\n",
      "Epoch: 16/20... Step: 1640... Loss: 1.5358... Val Loss: 1.5479\n",
      "Epoch: 16/20... Step: 1650... Loss: 1.5028... Val Loss: 1.5463\n",
      "Epoch: 16/20... Step: 1660... Loss: 1.5224... Val Loss: 1.5406\n",
      "Epoch: 16/20... Step: 1670... Loss: 1.5354... Val Loss: 1.5382\n",
      "Epoch: 16/20... Step: 1680... Loss: 1.5380... Val Loss: 1.5360\n",
      "Epoch: 16/20... Step: 1690... Loss: 1.5021... Val Loss: 1.5369\n",
      "Epoch: 16/20... Step: 1700... Loss: 1.5404... Val Loss: 1.5366\n",
      "Epoch: 16/20... Step: 1710... Loss: 1.5217... Val Loss: 1.5358\n",
      "Epoch: 16/20... Step: 1720... Loss: 1.5177... Val Loss: 1.5408\n",
      "Epoch: 16/20... Step: 1730... Loss: 1.5261... Val Loss: 1.5359\n",
      "Epoch: 16/20... Step: 1740... Loss: 1.5179... Val Loss: 1.5374\n",
      "Epoch: 17/20... Step: 1750... Loss: 1.5218... Val Loss: 1.5388\n",
      "Epoch: 17/20... Step: 1760... Loss: 1.5077... Val Loss: 1.5359\n",
      "Epoch: 17/20... Step: 1770... Loss: 1.5275... Val Loss: 1.5296\n",
      "Epoch: 17/20... Step: 1780... Loss: 1.5293... Val Loss: 1.5247\n",
      "Epoch: 17/20... Step: 1790... Loss: 1.5252... Val Loss: 1.5247\n",
      "Epoch: 17/20... Step: 1800... Loss: 1.5094... Val Loss: 1.5295\n",
      "Epoch: 17/20... Step: 1810... Loss: 1.5022... Val Loss: 1.5254\n",
      "Epoch: 17/20... Step: 1820... Loss: 1.5214... Val Loss: 1.5217\n",
      "Epoch: 17/20... Step: 1830... Loss: 1.5158... Val Loss: 1.5249\n",
      "Epoch: 17/20... Step: 1840... Loss: 1.5233... Val Loss: 1.5244\n",
      "Epoch: 17/20... Step: 1850... Loss: 1.4883... Val Loss: 1.5236\n",
      "Epoch: 18/20... Step: 1860... Loss: 1.4845... Val Loss: 1.5242\n",
      "Epoch: 18/20... Step: 1870... Loss: 1.4967... Val Loss: 1.5218\n",
      "Epoch: 18/20... Step: 1880... Loss: 1.4900... Val Loss: 1.5196\n",
      "Epoch: 18/20... Step: 1890... Loss: 1.5079... Val Loss: 1.5158\n",
      "Epoch: 18/20... Step: 1900... Loss: 1.4854... Val Loss: 1.5135\n",
      "Epoch: 18/20... Step: 1910... Loss: 1.4873... Val Loss: 1.5243\n",
      "Epoch: 18/20... Step: 1920... Loss: 1.4822... Val Loss: 1.5176\n",
      "Epoch: 18/20... Step: 1930... Loss: 1.5183... Val Loss: 1.5145\n",
      "Epoch: 18/20... Step: 1940... Loss: 1.4665... Val Loss: 1.5170\n",
      "Epoch: 18/20... Step: 1950... Loss: 1.4974... Val Loss: 1.5150\n",
      "Epoch: 18/20... Step: 1960... Loss: 1.4900... Val Loss: 1.5173\n",
      "Epoch: 19/20... Step: 1970... Loss: 1.4945... Val Loss: 1.5137\n",
      "Epoch: 19/20... Step: 1980... Loss: 1.4608... Val Loss: 1.5084\n",
      "Epoch: 19/20... Step: 1990... Loss: 1.5089... Val Loss: 1.5082\n",
      "Epoch: 19/20... Step: 2000... Loss: 1.4747... Val Loss: 1.5090\n",
      "Epoch: 19/20... Step: 2010... Loss: 1.4814... Val Loss: 1.5065\n",
      "Epoch: 19/20... Step: 2020... Loss: 1.4909... Val Loss: 1.5079\n",
      "Epoch: 19/20... Step: 2030... Loss: 1.5074... Val Loss: 1.5048\n",
      "Epoch: 19/20... Step: 2040... Loss: 1.4814... Val Loss: 1.5046\n",
      "Epoch: 19/20... Step: 2050... Loss: 1.4878... Val Loss: 1.5048\n",
      "Epoch: 19/20... Step: 2060... Loss: 1.4705... Val Loss: 1.5030\n",
      "Epoch: 19/20... Step: 2070... Loss: 1.4840... Val Loss: 1.5049\n",
      "Epoch: 20/20... Step: 2080... Loss: 1.4598... Val Loss: 1.5066\n",
      "Epoch: 20/20... Step: 2090... Loss: 1.4693... Val Loss: 1.5025\n",
      "Epoch: 20/20... Step: 2100... Loss: 1.4762... Val Loss: 1.5013\n",
      "Epoch: 20/20... Step: 2110... Loss: 1.4808... Val Loss: 1.5009\n",
      "Epoch: 20/20... Step: 2120... Loss: 1.4904... Val Loss: 1.4961\n",
      "Epoch: 20/20... Step: 2130... Loss: 1.4465... Val Loss: 1.4998\n",
      "Epoch: 20/20... Step: 2140... Loss: 1.4804... Val Loss: 1.4962\n",
      "Epoch: 20/20... Step: 2150... Loss: 1.4868... Val Loss: 1.4977\n",
      "Epoch: 20/20... Step: 2160... Loss: 1.4540... Val Loss: 1.4964\n",
      "Epoch: 20/20... Step: 2170... Loss: 1.4884... Val Loss: 1.4960\n",
      "Epoch: 20/20... Step: 2180... Loss: 1.6539... Val Loss: 1.4979\n"
     ]
    }
   ],
   "source": [
    "batch_size = 512\n",
    "seq_length = 32\n",
    "n_epochs =  20 # start small if you are just testing initial behavior\n",
    "\n",
    "# train the model\n",
    "train(net, encoded, epochs=n_epochs, batch_size=batch_size, seq_length=seq_length, lr=0.001, print_every=10)"
   ]
  },
  {
   "cell_type": "markdown",
   "metadata": {},
   "source": [
    "## Getting the best model\n",
    "\n",
    "To set your hyperparameters to get the best performance, you'll want to watch the training and validation losses. If your training loss is much lower than the validation loss, you're overfitting. Increase regularization (more dropout) or use a smaller network. If the training and validation losses are close, you're underfitting so you can increase the size of the network."
   ]
  },
  {
   "cell_type": "markdown",
   "metadata": {},
   "source": [
    "## Hyperparameters\n",
    "\n",
    "Here are the hyperparameters for the network.\n",
    "\n",
    "In defining the model:\n",
    "* `n_hidden` - The number of units in the hidden layers.\n",
    "* `n_layers` - Number of hidden LSTM layers to use.\n",
    "\n",
    "We assume that dropout probability and learning rate will be kept at the default, in this example.\n",
    "\n",
    "And in training:\n",
    "* `batch_size` - Number of sequences running through the network in one pass.\n",
    "* `seq_length` - Number of characters in the sequence the network is trained on. Larger is better typically, the network will learn more long range dependencies. But it takes longer to train. 100 is typically a good number here.\n",
    "* `lr` - Learning rate for training\n",
    "\n",
    "Here's some good advice from Andrej Karpathy on training the network. I'm going to copy it in here for your benefit, but also link to [where it originally came from](https://github.com/karpathy/char-rnn#tips-and-tricks).\n",
    "\n",
    "> ## Tips and Tricks\n",
    "\n",
    ">### Monitoring Validation Loss vs. Training Loss\n",
    ">If you're somewhat new to Machine Learning or Neural Networks it can take a bit of expertise to get good models. The most important quantity to keep track of is the difference between your training loss (printed during training) and the validation loss (printed once in a while when the RNN is run on the validation data (by default every 1000 iterations)). In particular:\n",
    "\n",
    "> - If your training loss is much lower than validation loss then this means the network might be **overfitting**. Solutions to this are to decrease your network size, or to increase dropout. For example you could try dropout of 0.5 and so on.\n",
    "> - If your training/validation loss are about equal then your model is **underfitting**. Increase the size of your model (either number of layers or the raw number of neurons per layer)\n",
    "\n",
    "> ### Approximate number of parameters\n",
    "\n",
    "> The two most important parameters that control the model are `n_hidden` and `n_layers`. I would advise that you always use `n_layers` of either 2/3. The `n_hidden` can be adjusted based on how much data you have. The two important quantities to keep track of here are:\n",
    "\n",
    "> - The number of parameters in your model. This is printed when you start training.\n",
    "> - The size of your dataset. 1MB file is approximately 1 million characters.\n",
    "\n",
    ">These two should be about the same order of magnitude. It's a little tricky to tell. Here are some examples:\n",
    "\n",
    "> - I have a 100MB dataset and I'm using the default parameter settings (which currently print 150K parameters). My data size is significantly larger (100 mil >> 0.15 mil), so I expect to heavily underfit. I am thinking I can comfortably afford to make `n_hidden` larger.\n",
    "> - I have a 10MB dataset and running a 10 million parameter model. I'm slightly nervous and I'm carefully monitoring my validation loss. If it's larger than my training loss then I may want to try to increase dropout a bit and see if that helps the validation loss.\n",
    "\n",
    "> ### Best models strategy\n",
    "\n",
    ">The winning strategy to obtaining very good models (if you have the compute time) is to always err on making the network larger (as large as you're willing to wait for it to compute) and then try different dropout values (between 0,1). Whatever model has the best validation performance (the loss, written in the checkpoint filename, low is good) is the one you should use in the end.\n",
    "\n",
    ">It is very common in deep learning to run many different models with many different hyperparameter settings, and in the end take whatever checkpoint gave the best validation performance.\n",
    "\n",
    ">By the way, the size of your training and validation splits are also parameters. Make sure you have a decent amount of data in your validation set or otherwise the validation performance will be noisy and not very informative."
   ]
  },
  {
   "cell_type": "markdown",
   "metadata": {},
   "source": [
    "## Checkpoint\n",
    "\n",
    "After training, we'll save the model so we can load it again later if we need too. Here I'm saving the parameters needed to create the same architecture, the hidden layer hyperparameters and the text characters."
   ]
  },
  {
   "cell_type": "code",
   "execution_count": 25,
   "metadata": {},
   "outputs": [],
   "source": [
    "# change the name, for saving multiple files\n",
    "model_name = 'rnn_x_epoch.net'\n",
    "\n",
    "checkpoint = {'n_hidden': net.n_hidden,\n",
    "              'n_layers': net.n_layers,\n",
    "              'state_dict': net.state_dict(),\n",
    "              'tokens': net.chars}\n",
    "\n",
    "with open(model_name, 'wb') as f:\n",
    "    torch.save(checkpoint, f)"
   ]
  },
  {
   "cell_type": "markdown",
   "metadata": {},
   "source": [
    "---\n",
    "## Making Predictions\n",
    "\n",
    "Now that the model is trained, we'll want to sample from it and make predictions about next characters! To sample, we pass in a character and have the network predict the next character. Then we take that character, pass it back in, and get another predicted character. Just keep doing this and you'll generate a bunch of text!\n",
    "\n",
    "### A note on the `predict`  function\n",
    "\n",
    "The output of our RNN is from a fully-connected layer and it outputs a **distribution of next-character scores**.\n",
    "\n",
    "> To actually get the next character, we apply a softmax function, which gives us a *probability* distribution that we can then sample to predict the next character.\n",
    "\n",
    "### Top K sampling\n",
    "\n",
    "Our predictions come from a categorical probability distribution over all the possible characters. We can make the sample text and make it more reasonable to handle (with less variables) by only considering some $K$ most probable characters. This will prevent the network from giving us completely absurd characters while allowing it to introduce some noise and randomness into the sampled text. Read more about [topk, here](https://pytorch.org/docs/stable/torch.html#torch.topk).\n"
   ]
  },
  {
   "cell_type": "code",
   "execution_count": 26,
   "metadata": {},
   "outputs": [],
   "source": [
    "def predict(net, char, h=None, top_k=None):\n",
    "        ''' Given a character, predict the next character.\n",
    "            Returns the predicted character and the hidden state.\n",
    "        '''\n",
    "        \n",
    "        # tensor inputs\n",
    "        x = np.array([[net.char2int[char]]])\n",
    "        x = one_hot_encode(x, len(net.chars))\n",
    "        inputs = torch.from_numpy(x)\n",
    "        \n",
    "        if(train_on_gpu):\n",
    "            inputs = inputs.cuda()\n",
    "        \n",
    "        # detach hidden state from history\n",
    "        h = tuple([each.data for each in h])\n",
    "        # get the output of the model\n",
    "        out, h = net(inputs, h)\n",
    "\n",
    "        # get the character probabilities\n",
    "        p = F.softmax(out, dim=1).data\n",
    "        if(train_on_gpu):\n",
    "            p = p.cpu() # move to cpu\n",
    "        \n",
    "        # get top characters\n",
    "        if top_k is None:\n",
    "            top_ch = np.arange(len(net.chars))\n",
    "        else:\n",
    "            p, top_ch = p.topk(top_k)\n",
    "            top_ch = top_ch.numpy().squeeze()\n",
    "        \n",
    "        # select the likely next character with some element of randomness\n",
    "        p = p.numpy().squeeze()\n",
    "        char = np.random.choice(top_ch, p=p/p.sum())\n",
    "        \n",
    "        # return the encoded value of the predicted char and the hidden state\n",
    "        return net.int2char[char], h"
   ]
  },
  {
   "cell_type": "markdown",
   "metadata": {},
   "source": [
    "### Priming and generating text \n",
    "\n",
    "Typically you'll want to prime the network so you can build up a hidden state. Otherwise the network will start out generating characters at random. In general the first bunch of characters will be a little rough since it hasn't built up a long history of characters to predict from."
   ]
  },
  {
   "cell_type": "code",
   "execution_count": 27,
   "metadata": {},
   "outputs": [],
   "source": [
    "def sample(net, size, prime='The', top_k=None):\n",
    "        \n",
    "    if(train_on_gpu):\n",
    "        net.cuda()\n",
    "    else:\n",
    "        net.cpu()\n",
    "    \n",
    "    net.eval() # eval mode\n",
    "    \n",
    "    # First off, run through the prime characters\n",
    "    chars = [ch for ch in prime]\n",
    "    h = net.init_hidden(1)\n",
    "    for ch in prime:\n",
    "        char, h = predict(net, ch, h, top_k=top_k)\n",
    "\n",
    "    chars.append(char)\n",
    "    \n",
    "    # Now pass in the previous character and get a new one\n",
    "    for ii in range(size):\n",
    "        char, h = predict(net, chars[-1], h, top_k=top_k)\n",
    "        chars.append(char)\n",
    "\n",
    "    return ''.join(chars)"
   ]
  },
  {
   "cell_type": "code",
   "execution_count": 28,
   "metadata": {},
   "outputs": [
    {
     "name": "stdout",
     "output_type": "stream",
     "text": [
      "Anna\n",
      "saw hims it and at\n",
      "the moneing and her. So moved her husbands too such him and she had all seem to see\n",
      "too\n",
      "assended him, and she thought, that wish he had boom, he was not at the horder towards atting at a pasit of their proport of at a long one, her\n",
      "and to be and a peasant with a loter thought herself to the\n",
      "deal asked that he had\n",
      "not be stond himself, becouse as hund him any\n",
      "shaling the come of the prasent about his alfoud\n",
      "time to\n",
      "saying of this talks, as so had taken off him to\n",
      "his sort of her and\n",
      "and antical felt to having want a seen to her stay in sprove that he could not to such harge as he was to be his broothes, who could so the perficuling, and at the cornes, she could not be anyther on the pair would say all at the same whiling on that the mother was not and say of the\n",
      "stares. To her susher, and she saw at the sort with with her as she thought, taking to her sudden, to all the prance was health to be as\n",
      "it. He could not surg her son, well that it said,\n",
      "and a letter tretilene\n"
     ]
    }
   ],
   "source": [
    "print(sample(net, 1000, prime='Anna', top_k=5))"
   ]
  },
  {
   "cell_type": "markdown",
   "metadata": {},
   "source": [
    "## Loading a checkpoint"
   ]
  },
  {
   "cell_type": "code",
   "execution_count": 29,
   "metadata": {},
   "outputs": [
    {
     "data": {
      "text/plain": [
       "<All keys matched successfully>"
      ]
     },
     "execution_count": 29,
     "metadata": {},
     "output_type": "execute_result"
    }
   ],
   "source": [
    "# Here we have loaded in a model that trained over 20 epochs `rnn_20_epoch.net`\n",
    "with open('rnn_x_epoch.net', 'rb') as f:\n",
    "    checkpoint = torch.load(f)\n",
    "    \n",
    "loaded = CharRNN(checkpoint['tokens'], n_hidden=checkpoint['n_hidden'], n_layers=checkpoint['n_layers'])\n",
    "loaded.load_state_dict(checkpoint['state_dict'])"
   ]
  },
  {
   "cell_type": "code",
   "execution_count": 30,
   "metadata": {},
   "outputs": [
    {
     "name": "stdout",
     "output_type": "stream",
     "text": [
      "And Levin said the sore of the birders, and that the care in the sight and stept as, and there were, with with a life out.\n",
      "\n",
      "\"And you have no children too my husband and\n",
      "this.\n",
      "Anna, any\n",
      "moment.\"\n",
      "\n",
      "\"Well, why so you dor't see, they a singered\n",
      "at the man of the second at about the murder and tence of the portlat and her. I cannot be all the subjoct the position, the same words, to be to say of him and and were of the children, well, stepp it, and\n",
      "all the prevent, she wele into soon what was niver his hand, the poor from her heast, she was senitally hands to the party, and though he saw so anyways were her husband had been he would be a strange wife. \"We won't all to her to her. I does it would be so told it to mone of the men women. I would not so time to,\n",
      "he's\n",
      "between that having a convinces that it was no menter of the mother,\" said Anna.\n",
      "\n",
      "\"What was that I how as it were in the dreak through a chear time\n",
      "of to me, a lovious to\n",
      "me, so as some a seconnicion. What we'll be, take\n",
      "theid that they\n",
      "was a stell,\" she was to be stricking a most all the house, and the days who the man as seemed out of the stair, and\n",
      "he daded it on the princips, and, something at her face with his sat of the some to strick of\n",
      "she she could not be think, and he had not been to happes and to batter, when they was a princial aspectancess alone. \"That's such the child and too, what,\" he added, but and that the son the plopicion that the\n",
      "murbach to telk in the chossion, all his hand to him.\n",
      "\n",
      "\"Why decares you are now as they the charching, began work, and want to say to his week the madiantill something that's happy and suck a simplise and standithed to so an to so to most times.\n",
      "They will she which he\n",
      "decaided to a matter, but he was not the same on her that she charged in a little of sort,\" said Levin. She thought to ask any hand, and he had not been towerd her shate at the sould on her hand, as the peasant that the\n",
      "same, when he saw her for the becore,\n",
      "but\n",
      "they are wored as he saw and so with a calriation on the \n"
     ]
    }
   ],
   "source": [
    "# Sample using a loaded model\n",
    "print(sample(loaded, 2000, top_k=5, prime=\"And Levin said\"))"
   ]
  },
  {
   "cell_type": "code",
   "execution_count": null,
   "metadata": {
    "collapsed": true
   },
   "outputs": [],
   "source": []
  }
 ],
 "metadata": {
  "kernelspec": {
   "display_name": "Python 3",
   "language": "python",
   "name": "python3"
  },
  "language_info": {
   "codemirror_mode": {
    "name": "ipython",
    "version": 3
   },
   "file_extension": ".py",
   "mimetype": "text/x-python",
   "name": "python",
   "nbconvert_exporter": "python",
   "pygments_lexer": "ipython3",
   "version": "3.7.4"
  }
 },
 "nbformat": 4,
 "nbformat_minor": 2
}
